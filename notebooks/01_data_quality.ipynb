{
 "cells": [
  {
   "cell_type": "code",
   "execution_count": 1,
   "id": "41c2f4a7",
   "metadata": {},
   "outputs": [],
   "source": [
    "from pathlib import Path\n",
    "import pandas as pd\n",
    "import numpy as np"
   ]
  },
  {
   "cell_type": "code",
   "execution_count": 2,
   "id": "5a8277a6",
   "metadata": {},
   "outputs": [],
   "source": [
    "DATA_DIR = Path(\"..\") / \"data\"\n"
   ]
  },
  {
   "cell_type": "markdown",
   "id": "d324b3d9",
   "metadata": {},
   "source": [
    "#### helpers"
   ]
  },
  {
   "cell_type": "code",
   "execution_count": 3,
   "id": "0a4c3b9e",
   "metadata": {},
   "outputs": [],
   "source": [
    "def read_csv_flex(path: Path) -> pd.DataFrame:\n",
    "    try:\n",
    "        df = pd.read_csv(path)\n",
    "        if df.shape[1] == 1:\n",
    "            df = pd.read_csv(path, sep=\";\")\n",
    "    except Exception:\n",
    "        df = pd.read_csv(path, sep=\";\")\n",
    "    return df\n",
    "\n",
    "def assert_cols(df: pd.DataFrame, required: set, name: str):\n",
    "    missing = required - set(df.columns)\n",
    "    assert not missing, f\"{name}: missing columns {missing}\"\n"
   ]
  },
  {
   "cell_type": "markdown",
   "id": "a08c9235",
   "metadata": {},
   "source": [
    "### Data Loading"
   ]
  },
  {
   "cell_type": "code",
   "execution_count": 4,
   "id": "0bbebdb9",
   "metadata": {},
   "outputs": [],
   "source": [
    "aob = read_csv_flex(DATA_DIR/\"aob_config.csv\")\n",
    "payout = read_csv_flex(DATA_DIR/\"payout_rules.csv\")\n",
    "planning = read_csv_flex(DATA_DIR/\"planning_rules.csv\")\n",
    "ws_cfg = read_csv_flex(DATA_DIR/\"ws_config.csv\")\n",
    "date_dim = read_csv_flex(DATA_DIR/\"date_dim.csv\")\n",
    "org = read_csv_flex(DATA_DIR/\"org_hierarchy.csv\")\n",
    "accounts = read_csv_flex(DATA_DIR/\"accounts_dim.csv\")\n",
    "fact = read_csv_flex(DATA_DIR/\"sales_monthly.csv\")"
   ]
  },
  {
   "cell_type": "code",
   "execution_count": 5,
   "id": "01e648da",
   "metadata": {},
   "outputs": [
    {
     "data": {
      "text/plain": [
       "(        date  year  month quarter country_id area_id salesperson_id  \\\n",
       " 0 2024-01-01  2024      1      Q1         PL    PL_N     SP_BIA_001   \n",
       " 1 2024-02-01  2024      2      Q1         PL    PL_N     SP_BIA_001   \n",
       " 2 2024-03-01  2024      3      Q1         PL    PL_N     SP_BIA_001   \n",
       " \n",
       "                account_id  tier  plan_revenue  actual_revenue  \\\n",
       " 0  ACC_T1_SP_BIA_001_0001     1   8941.951131     9210.898894   \n",
       " 1  ACC_T1_SP_BIA_001_0001     1   8941.951131     8761.233837   \n",
       " 2  ACC_T1_SP_BIA_001_0001     1  10219.372722    11954.465374   \n",
       " \n",
       "    last_year_revenue  windfall_flag  shortfall_flag  sales_driven  \\\n",
       " 0        7440.401123              0               0             0   \n",
       " 1        7440.401123              0               0             0   \n",
       " 2        8503.315569              1               0             0   \n",
       " \n",
       "    healthy_prev3    actual_adj  \n",
       " 0              0   9210.898894  \n",
       " 1              1   8761.233837  \n",
       " 2              1  10219.372722  ,\n",
       "   country_id country_manager_id area_id area_manager_id area_name aob_band  \\\n",
       " 0         PL          CM_PL_001    PL_S        AM_S_001     South     HIGH   \n",
       " 1         PL          CM_PL_001    PL_S        AM_S_001     South     HIGH   \n",
       " 2         PL          CM_PL_001    PL_S        AM_S_001     South     HIGH   \n",
       " \n",
       "   salesperson_id     city  tenure_years  \n",
       " 0     SP_WAW_001   Warsaw             8  \n",
       " 1     SP_KRK_001   Krakow            14  \n",
       " 2     SP_WRO_001  Wroclaw            11  ,\n",
       "                account_id            account_name  tier    city  \\\n",
       " 0  ACC_T1_SP_WAW_001_0001  ACC_T1_SP_WAW_001_0001     1  Warsaw   \n",
       " 1  ACC_T1_SP_WAW_001_0002  ACC_T1_SP_WAW_001_0002     1  Warsaw   \n",
       " 2  ACC_T1_SP_WAW_001_0003  ACC_T1_SP_WAW_001_0003     1  Warsaw   \n",
       " \n",
       "   salesperson_id  is_new  \n",
       " 0     SP_WAW_001       0  \n",
       " 1     SP_WAW_001       0  \n",
       " 2     SP_WAW_001       0  ,\n",
       "         date  year  month month_name quarter  is_quarter_end  is_year_end\n",
       " 0 2024-01-01  2024      1        Jan      Q1               0            0\n",
       " 1 2024-02-01  2024      2        Feb      Q1               0            0\n",
       " 2 2024-03-01  2024      3        Mar      Q1               1            0)"
      ]
     },
     "execution_count": 5,
     "metadata": {},
     "output_type": "execute_result"
    }
   ],
   "source": [
    "# parse dates\n",
    "if \"date\" in fact.columns:\n",
    "    fact[\"date\"] = pd.to_datetime(fact[\"date\"], errors=\"coerce\")\n",
    "    date_dim[\"date\"] = pd.to_datetime(date_dim[\"date\"], errors=\"coerce\")\n",
    "\n",
    "fact.head(3), org.head(3), accounts.head(3), date_dim.head(3)"
   ]
  },
  {
   "cell_type": "markdown",
   "id": "3ece725b",
   "metadata": {},
   "source": [
    "### Schema checks"
   ]
  },
  {
   "cell_type": "code",
   "execution_count": 6,
   "id": "52a46e80",
   "metadata": {},
   "outputs": [],
   "source": [
    "req_fact = {\"date\",\"year\",\"month\",\"quarter\",\n",
    "            \"country_id\",\"area_id\",\"salesperson_id\",\"account_id\",\"tier\",\n",
    "            \"plan_revenue\",\"actual_revenue\",\"last_year_revenue\"}\n",
    "req_org  = {\"country_id\",\"area_id\",\"area_name\",\"aob_band\",\"salesperson_id\",\"city\",\"tenure_years\"}\n",
    "req_acc  = {\"account_id\",\"account_name\",\"tier\",\"city\",\"salesperson_id\",\"is_new\"}\n",
    "\n",
    "assert_cols(fact, req_fact, \"fact\")\n",
    "assert_cols(org, req_org, \"org\")\n",
    "assert_cols(accounts, req_acc, \"accounts\")\n",
    "\n",
    "assert fact[\"date\"].notna().all(), \"fact: null dates\"\n",
    "assert len(date_dim)==12, \"date_dim should be monthly (12 rows)\"\n"
   ]
  },
  {
   "cell_type": "markdown",
   "id": "50267c21",
   "metadata": {},
   "source": [
    "### Integrity"
   ]
  },
  {
   "cell_type": "code",
   "execution_count": 7,
   "id": "073ff5cc",
   "metadata": {},
   "outputs": [
    {
     "data": {
      "text/plain": [
       "[]"
      ]
     },
     "execution_count": 7,
     "metadata": {},
     "output_type": "execute_result"
    }
   ],
   "source": [
    "issues = []\n",
    "\n",
    "# referential integrity\n",
    "missing_acc = fact.loc[~fact[\"account_id\"].isin(accounts[\"account_id\"]), \"account_id\"].unique()\n",
    "if len(missing_acc): issues.append((\"missing accounts in dim\", len(missing_acc)))\n",
    "\n",
    "missing_sp = fact.loc[~fact[\"salesperson_id\"].isin(org[\"salesperson_id\"]), \"salesperson_id\"].unique()\n",
    "if len(missing_sp): issues.append((\"missing salespeople in org\", len(missing_sp)))\n",
    "\n",
    "# area mismatch vs org mapping\n",
    "sp2area = org.set_index(\"salesperson_id\")[\"area_id\"].to_dict()\n",
    "mism = fact[fact.apply(lambda r: sp2area.get(r[\"salesperson_id\"]) != r[\"area_id\"], axis=1)]\n",
    "if len(mism): issues.append((\"area_id mismatch rows\", len(mism)))\n",
    "\n",
    "# 12 months per account\n",
    "months_per_acc = fact.groupby(\"account_id\")[\"date\"].nunique()\n",
    "not_12 = months_per_acc[months_per_acc!=12]\n",
    "if len(not_12): issues.append((\"accounts with !=12 months\", len(not_12)))\n",
    "\n",
    "# duplicates\n",
    "dups = fact.duplicated(subset=[\"account_id\",\"date\"]).sum()\n",
    "if dups: issues.append((\"duplicate (account_id,date)\", int(dups)))\n",
    "\n",
    "issues\n"
   ]
  },
  {
   "cell_type": "markdown",
   "id": "70e2809a",
   "metadata": {},
   "source": [
    "### Values sanity"
   ]
  },
  {
   "cell_type": "code",
   "execution_count": 8,
   "id": "73a425a4",
   "metadata": {},
   "outputs": [
    {
     "data": {
      "text/html": [
       "<div>\n",
       "<style scoped>\n",
       "    .dataframe tbody tr th:only-of-type {\n",
       "        vertical-align: middle;\n",
       "    }\n",
       "\n",
       "    .dataframe tbody tr th {\n",
       "        vertical-align: top;\n",
       "    }\n",
       "\n",
       "    .dataframe thead th {\n",
       "        text-align: right;\n",
       "    }\n",
       "</style>\n",
       "<table border=\"1\" class=\"dataframe\">\n",
       "  <thead>\n",
       "    <tr style=\"text-align: right;\">\n",
       "      <th></th>\n",
       "      <th>account_id</th>\n",
       "      <th>date</th>\n",
       "      <th>plan_revenue</th>\n",
       "      <th>last_year_revenue</th>\n",
       "    </tr>\n",
       "  </thead>\n",
       "  <tbody>\n",
       "  </tbody>\n",
       "</table>\n",
       "</div>"
      ],
      "text/plain": [
       "Empty DataFrame\n",
       "Columns: [account_id, date, plan_revenue, last_year_revenue]\n",
       "Index: []"
      ]
     },
     "execution_count": 8,
     "metadata": {},
     "output_type": "execute_result"
    }
   ],
   "source": [
    "neg_counts = {c: int((fact[c] < 0).sum()) for c in [\"plan_revenue\",\"actual_revenue\",\"last_year_revenue\"] if c in fact}\n",
    "neg_counts\n",
    "\n",
    "# NEW account rule: if is_new==1 then LY==0 and Plan==0 for 2024\n",
    "merged = fact.merge(accounts[[\"account_id\",\"is_new\"]], on=\"account_id\", how=\"left\")\n",
    "violations_new = merged[(merged[\"is_new\"]==1) & ((merged[\"last_year_revenue\"]!=0) | (merged[\"plan_revenue\"]!=0))]\n",
    "violations_new[[\"account_id\",\"date\",\"plan_revenue\",\"last_year_revenue\"]].head()\n"
   ]
  },
  {
   "cell_type": "markdown",
   "id": "42f4c0c6",
   "metadata": {},
   "source": [
    "### Distribution"
   ]
  },
  {
   "cell_type": "code",
   "execution_count": 9,
   "id": "57f7a6f7",
   "metadata": {},
   "outputs": [
    {
     "data": {
      "text/plain": [
       "({'salespeople': 10,\n",
       "  'accounts': 628,\n",
       "  'rows_fact': 7536,\n",
       "  'months_distinct': 12,\n",
       "  'years': [2024]},\n",
       "    tier  accounts_by_tier\n",
       " 0     1               506\n",
       " 1     3               108\n",
       " 2     5                14,\n",
       "         city aob_band  count\n",
       " 0  Bialystok      LOW      1\n",
       " 1  Bydgoszcz      LOW      1\n",
       " 2     Gdansk      MED      1\n",
       " 3     Krakow     HIGH      1\n",
       " 4       Lodz      MED      1\n",
       " 5     Lublin      LOW      1\n",
       " 6     Poznan      MED      1\n",
       " 7   Szczecin      LOW      1\n",
       " 8     Warsaw     HIGH      1\n",
       " 9    Wroclaw     HIGH      1)"
      ]
     },
     "execution_count": 9,
     "metadata": {},
     "output_type": "execute_result"
    }
   ],
   "source": [
    "summary = {\n",
    "    \"salespeople\": org[\"salesperson_id\"].nunique(),\n",
    "    \"accounts\": accounts[\"account_id\"].nunique(),\n",
    "    \"rows_fact\": len(fact),\n",
    "    \"months_distinct\": fact[\"date\"].dt.to_period(\"M\").nunique(),\n",
    "    \"years\": fact[\"date\"].dt.year.unique().tolist(),\n",
    "}\n",
    "tier_dist = accounts[\"tier\"].value_counts().rename_axis(\"tier\").reset_index(name=\"accounts_by_tier\")\n",
    "city_aob = org.groupby([\"city\",\"aob_band\"]).size().reset_index(name=\"count\")\n",
    "\n",
    "summary, tier_dist.head(10), city_aob\n"
   ]
  },
  {
   "cell_type": "markdown",
   "id": "eab38708",
   "metadata": {},
   "source": [
    "### QA"
   ]
  },
  {
   "cell_type": "code",
   "execution_count": 10,
   "id": "0bdd45bd",
   "metadata": {},
   "outputs": [
    {
     "data": {
      "text/plain": [
       "(WindowsPath('../data/qa_report.csv'),\n",
       " Empty DataFrame\n",
       " Columns: [issue, count]\n",
       " Index: [])"
      ]
     },
     "execution_count": 10,
     "metadata": {},
     "output_type": "execute_result"
    }
   ],
   "source": [
    "qa = pd.DataFrame(issues, columns=[\"issue\",\"count\"])\n",
    "qa_path = DATA_DIR/\"qa_report.csv\"\n",
    "qa.to_csv(qa_path, index=False)\n",
    "qa_path, qa\n"
   ]
  },
  {
   "cell_type": "code",
   "execution_count": null,
   "id": "887ae272",
   "metadata": {},
   "outputs": [],
   "source": []
  }
 ],
 "metadata": {
  "kernelspec": {
   "display_name": "Python 3",
   "language": "python",
   "name": "python3"
  },
  "language_info": {
   "codemirror_mode": {
    "name": "ipython",
    "version": 3
   },
   "file_extension": ".py",
   "mimetype": "text/x-python",
   "name": "python",
   "nbconvert_exporter": "python",
   "pygments_lexer": "ipython3",
   "version": "3.11.3"
  }
 },
 "nbformat": 4,
 "nbformat_minor": 5
}
